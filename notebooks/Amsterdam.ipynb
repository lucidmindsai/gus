{
 "cells": [
  {
   "attachments": {},
   "cell_type": "markdown",
   "metadata": {},
   "source": [
    "# Tutorial - Running GUS in Amsterdam.\n",
    "A demo of a minimal flow of GUS process in Amsterdam. Data Source: https://maps.amsterdam.nl\n",
    "\n",
    "For more advanced use cases, please see upcoming article. For more structured experiment and scenario analyis plese see model sepcification and code documentation within docs/ folder. "
   ]
  },
  {
   "cell_type": "code",
   "execution_count": null,
   "metadata": {},
   "outputs": [],
   "source": [
    "# Install the GUS framework.\n",
    "\n",
    "import sys\n",
    "\n",
    "!{sys.executable} -m pip install pyGus"
   ]
  },
  {
   "cell_type": "code",
   "execution_count": null,
   "metadata": {},
   "outputs": [],
   "source": [
    "# %load_ext autoreload\n",
    "%reload_ext autoreload\n",
    "%autoreload 3\n",
    "%matplotlib inline\n",
    "from pkg_resources import resource_filename\n",
    "import matplotlib.pyplot as plt\n",
    "import numpy as np\n",
    "import pandas as pd\n",
    "import seaborn as sns\n",
    "import os, sys, json\n",
    "import pkgutil\n",
    "import pprint\n",
    "\n",
    "pp = pprint.PrettyPrinter(indent=1)\n",
    "sns.set_theme()"
   ]
  },
  {
   "attachments": {},
   "cell_type": "markdown",
   "metadata": {},
   "source": [
    "\n",
    "### 0. Importing GUS modules"
   ]
  },
  {
   "cell_type": "code",
   "execution_count": null,
   "metadata": {},
   "outputs": [],
   "source": [
    "from pygus.gus.models import Urban\n",
    "from pygus.gus.utilities import (\n",
    "    get_raster_data,\n",
    "    latlng_array_to_xy,\n",
    ")"
   ]
  },
  {
   "attachments": {},
   "cell_type": "markdown",
   "metadata": {},
   "source": [
    "\n",
    "## 1. Initilisation\n",
    "### 1.1 Importing data on site, tree populations, experiment parameters"
   ]
  },
  {
   "cell_type": "code",
   "execution_count": null,
   "metadata": {},
   "outputs": [],
   "source": [
    "# File that holds site/city other geolocated data and parameters\n",
    "fname_config_site = resource_filename(\"pygus\", \"gus/inputs/site.json\")\n",
    "\n",
    "# File that include tree species specific parameters\n",
    "fname_config_allometrics = resource_filename(\"pygus\", \"gus/inputs/allometrics.json\")\n",
    "\n",
    "# File that holds experiment parameters\n",
    "fname_scenario_params = resource_filename(\"pygus\", \"gus/inputs/scenario.json\")"
   ]
  },
  {
   "cell_type": "code",
   "execution_count": null,
   "metadata": {},
   "outputs": [],
   "source": [
    "f = open(fname_config_allometrics)\n",
    "config_allometrics = json.loads(f.read())"
   ]
  },
  {
   "cell_type": "code",
   "execution_count": null,
   "metadata": {},
   "outputs": [],
   "source": [
    "f = open(fname_config_site)\n",
    "config_site = json.loads(f.read())\n",
    "pp.pprint(config_site)"
   ]
  },
  {
   "attachments": {},
   "cell_type": "markdown",
   "metadata": {},
   "source": [
    "#### 1.2 Load Trees Data, Drop unnecessary columns."
   ]
  },
  {
   "cell_type": "code",
   "execution_count": null,
   "metadata": {},
   "outputs": [],
   "source": [
    "url = \"https://treesai-gus-public.s3.eu-west-3.amazonaws.com/inputs/amsterdam_all_trees.csv\"\n",
    "df_pop = pd.read_csv(url)\n",
    "print(\n",
    "    \"Based on the source, there are {} Trees in the public Amsterdam Trees Dataset.\".format(\n",
    "        len(df_pop)\n",
    "    )\n",
    ")"
   ]
  },
  {
   "cell_type": "code",
   "execution_count": null,
   "metadata": {},
   "outputs": [],
   "source": [
    "df_pop = df_pop[[\"OBJECTNUMMER\", \"Soortnaam_WTS\", \"Boomhoogte\", \"RADIUS\", \"LNG\", \"LAT\"]]\n",
    "df_pop = df_pop.rename(\n",
    "    {\n",
    "        \"OBJECTNUMMER\": \"id\",\n",
    "        \"Soortnaam_WTS\": \"species\",\n",
    "        \"Boomhoogte\": \"height\",\n",
    "        \"RADIUS\": \"radius\",\n",
    "        \"LNG\": \"lng\",\n",
    "        \"LAT\": \"lat\",\n",
    "    },\n",
    "    axis=1,\n",
    ")"
   ]
  },
  {
   "cell_type": "code",
   "execution_count": null,
   "metadata": {},
   "outputs": [],
   "source": [
    "df_pop.set_index(\"id\")\n",
    "df_pop[\"dbh\"] = df_pop[\"radius\"] * 2.54\n",
    "df_pop.tail()"
   ]
  },
  {
   "attachments": {},
   "cell_type": "markdown",
   "metadata": {},
   "source": [
    "#### 1.3 Take avg. Height"
   ]
  },
  {
   "cell_type": "code",
   "execution_count": null,
   "metadata": {},
   "outputs": [],
   "source": [
    "import re\n",
    "\n",
    "df_pop = df_pop[df_pop[\"height\"] != \"Onbekend\"]\n",
    "\n",
    "df_pop.tail()"
   ]
  },
  {
   "cell_type": "code",
   "execution_count": null,
   "metadata": {},
   "outputs": [],
   "source": [
    "def get_average_height(height_string):\n",
    "    \"\"\"\n",
    "    Extracts the average height from a string of the format 'X tot Y m'.\n",
    "    \"\"\"\n",
    "    matches = re.findall(r\"\\d+\", height_string)\n",
    "    return sum(map(int, matches)) / len(matches)\n",
    "\n",
    "\n",
    "df_pop[\"height\"] = df_pop[\"height\"].apply(get_average_height)\n",
    "\n",
    "df_pop.tail()"
   ]
  },
  {
   "attachments": {},
   "cell_type": "markdown",
   "metadata": {},
   "source": [
    "#### 1.4 Map LAT,LNG to x,y POS on MESA Grid."
   ]
  },
  {
   "cell_type": "code",
   "execution_count": null,
   "metadata": {},
   "outputs": [],
   "source": [
    "# take lat and lng columns and convert to 2 separate numpy arrays\n",
    "df_pop = latlng_array_to_xy(df_pop)"
   ]
  },
  {
   "cell_type": "code",
   "execution_count": null,
   "metadata": {},
   "outputs": [],
   "source": [
    "url = \"https://treesai-gus-public.s3.eu-west-3.amazonaws.com/inputs/species_list_amsterdam.csv\"\n",
    "df = pd.read_csv(url)\n",
    "df = df.rename(columns={\"Species\": \"species\"})\n",
    "df.tail()"
   ]
  },
  {
   "attachments": {},
   "cell_type": "markdown",
   "metadata": {},
   "source": [
    "### 2. Data Prep\n",
    "\n",
    "Merge the two dataframes on the 'species' column\n",
    "Map specific Tree species to their belonging categories \n",
    "to be able to use their generic allometric equations.\n"
   ]
  },
  {
   "cell_type": "code",
   "execution_count": null,
   "metadata": {},
   "outputs": [],
   "source": [
    "merged_df = pd.merge(df, df_pop, on=\"species\")\n",
    "merged_df.columns\n",
    "df_pop = merged_df[[\"id\", \"species\", \"Category\", \"height\", \"dbh\", \"xpos\", \"ypos\", \"lat\", \"lng\"]]\n",
    "df_pop.tail()"
   ]
  },
  {
   "cell_type": "code",
   "execution_count": null,
   "metadata": {},
   "outputs": [],
   "source": [
    "f = open(fname_scenario_params)\n",
    "scenario_params = json.loads(f.read())\n",
    "pp.pprint(scenario_params)"
   ]
  },
  {
   "cell_type": "code",
   "execution_count": null,
   "metadata": {},
   "outputs": [],
   "source": [
    "# Distribute the conditions of Trees over the df.\n",
    "conditions = [\"fair\", \"good\", \"excellent\"] * (len(df_pop) // 3) + [\"good\"]\n",
    "df_pop[\"condition\"] = conditions"
   ]
  },
  {
   "cell_type": "code",
   "execution_count": null,
   "metadata": {},
   "outputs": [],
   "source": [
    "from datetime import datetime\n",
    "\n",
    "print(datetime.now())"
   ]
  },
  {
   "cell_type": "code",
   "execution_count": null,
   "metadata": {},
   "outputs": [],
   "source": [
    "# df_pop['species'].isna().sum() -- 368, deleting those for this case now.\n",
    "df_pop.dropna(subset=[\"species\"], inplace=True)\n",
    "df_pop.tail()"
   ]
  },
  {
   "attachments": {},
   "cell_type": "markdown",
   "metadata": {},
   "source": [
    "### 1.2 Creating a digital twin of the site"
   ]
  },
  {
   "cell_type": "code",
   "execution_count": null,
   "metadata": {},
   "outputs": [],
   "source": [
    "site = Urban(df_pop, fname_config_allometrics, fname_config_site, scenario_params)"
   ]
  },
  {
   "cell_type": "code",
   "execution_count": null,
   "metadata": {},
   "outputs": [],
   "source": [
    "initial_locations = get_raster_data(site, counts=True)\n",
    "initial_biomass = get_raster_data(site, var=\"biomass\")\n",
    "\n",
    "sns.set_style(\"ticks\")\n",
    "fig = plt.figure(figsize=(16, 12))\n",
    "plt.subplot(121)\n",
    "plt.imshow(initial_locations, cmap=\"Greens\")\n",
    "plt.title(\"Tree Locations\")\n",
    "plt.subplot(122)\n",
    "plt.title(\"Biomass Concentrations\")\n",
    "plt.imshow(initial_biomass, cmap=\"Blues\")\n",
    "# plt.colorbar(label = 'Biomass - Kg')\n",
    "plt.show()"
   ]
  },
  {
   "attachments": {},
   "cell_type": "markdown",
   "metadata": {},
   "source": [
    "\n",
    "### 2. Running the scenario\n"
   ]
  },
  {
   "cell_type": "code",
   "execution_count": null,
   "metadata": {},
   "outputs": [],
   "source": [
    "for i in range(scenario_params[\"time_horizon_years\"]):\n",
    "    site.step()"
   ]
  },
  {
   "attachments": {},
   "cell_type": "markdown",
   "metadata": {},
   "source": [
    "\n",
    "## 3. Analysis\n",
    "\n",
    "### 3.1 Individual tree level inspections\n",
    "\n"
   ]
  },
  {
   "cell_type": "code",
   "execution_count": null,
   "metadata": {},
   "outputs": [],
   "source": [
    "# Tree level individual variables\n",
    "df_out_tree = site.datacollector.get_agent_vars_dataframe()\n",
    "# df_out_tree.to_csv(\"trees_yearly.json\", index=True)\n",
    "df_out_tree.tail()"
   ]
  },
  {
   "cell_type": "code",
   "execution_count": null,
   "metadata": {},
   "outputs": [],
   "source": [
    "Specific_Tree = df_out_tree.xs(259000, level=\"AgentID\")\n",
    "Specific_Tree.tail()"
   ]
  },
  {
   "cell_type": "code",
   "execution_count": null,
   "metadata": {},
   "outputs": [],
   "source": [
    "sns.set_theme()\n",
    "fig = plt.figure(figsize=(16, 8))\n",
    "plt.subplot(221)\n",
    "Specific_Tree.height.plot()\n",
    "plt.xlabel(\"Years\")\n",
    "plt.ylabel(\"m\")\n",
    "plt.legend()\n",
    "plt.subplot(222)\n",
    "Specific_Tree.dbh.plot()\n",
    "plt.xlabel(\"Years\")\n",
    "plt.ylabel(\"cm\")\n",
    "plt.legend()\n",
    "plt.subplot(223)\n",
    "Specific_Tree.carbon.plot()\n",
    "plt.xlabel(\"Years\")\n",
    "plt.ylabel(\"Kg\")\n",
    "plt.legend()\n",
    "plt.subplot(224)\n",
    "Specific_Tree.dieback.plot()\n",
    "plt.xlabel(\"Years\")\n",
    "plt.ylabel(\"ratio\")\n",
    "plt.legend()\n",
    "plt.show()"
   ]
  },
  {
   "cell_type": "code",
   "execution_count": null,
   "metadata": {},
   "outputs": [],
   "source": [
    "# Site level aggregate variables\n",
    "df_out_site = site.datacollector.get_model_vars_dataframe()\n",
    "df_out_site.tail()"
   ]
  },
  {
   "cell_type": "code",
   "execution_count": null,
   "metadata": {},
   "outputs": [],
   "source": [
    "fig = plt.figure(figsize=(16, 8))\n",
    "df_out_site.Seq.plot()\n",
    "df_out_site.Released.plot()\n",
    "plt.xlabel(\"Years\")\n",
    "plt.ylabel(\"Kg\")\n",
    "plt.legend()\n",
    "plt.show()"
   ]
  },
  {
   "cell_type": "code",
   "execution_count": null,
   "metadata": {},
   "outputs": [],
   "source": [
    "locations = get_raster_data(site, counts=True)\n",
    "biomass = get_raster_data(site, var=\"biomass\")\n",
    "\n",
    "sns.set_style(\"ticks\")\n",
    "fig = plt.figure(figsize=(16, 16))\n",
    "plt.subplot(221)\n",
    "plt.imshow(initial_locations, cmap=\"Greens\")\n",
    "plt.title(\"Initial Tree Canopy\")\n",
    "\n",
    "plt.subplot(222)\n",
    "plt.imshow(locations, cmap=\"Greens\")\n",
    "plt.title(\"Current Tree Canopy\")\n",
    "\n",
    "plt.subplot(223)\n",
    "plt.title(\"Initial biomass concentrations\")\n",
    "plt.imshow(initial_biomass, cmap=\"Blues\", vmin=0, vmax=biomass.max())\n",
    "plt.colorbar(label=\"Biomass - Kg\")\n",
    "\n",
    "plt.subplot(224)\n",
    "plt.title(\"Current biomass concentrations\")\n",
    "plt.imshow(biomass, cmap=\"Blues\")\n",
    "plt.colorbar(label=\"Biomass - Kg\")\n",
    "plt.show()"
   ]
  },
  {
   "cell_type": "code",
   "execution_count": null,
   "metadata": {},
   "outputs": [],
   "source": []
  }
 ],
 "metadata": {
  "kernelspec": {
   "display_name": "gus",
   "language": "python",
   "name": "python3"
  },
  "language_info": {
   "codemirror_mode": {
    "name": "ipython",
    "version": 3
   },
   "file_extension": ".py",
   "mimetype": "text/x-python",
   "name": "python",
   "nbconvert_exporter": "python",
   "pygments_lexer": "ipython3",
   "version": "3.10.12"
  },
  "orig_nbformat": 4,
  "vscode": {
   "interpreter": {
    "hash": "47faf55c4908d5a48b3e033c34ef3b0dcb067f5ec38758b2b5aa4304447a4655"
   }
  }
 },
 "nbformat": 4,
 "nbformat_minor": 2
}
