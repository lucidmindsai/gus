{
 "cells": [
  {
   "cell_type": "code",
   "execution_count": 1,
   "metadata": {},
   "outputs": [],
   "source": [
    "# %load_ext autoreload\n",
    "%reload_ext autoreload\n",
    "%autoreload 3\n",
    "%matplotlib inline\n",
    "import matplotlib.pyplot as plt\n",
    "import numpy as np\n",
    "import pandas as pd\n",
    "import seaborn as sns\n",
    "import os, sys, json\n",
    "import pprint\n",
    "\n",
    "pp = pprint.PrettyPrinter(indent=1)\n",
    "sns.set_theme()"
   ]
  },
  {
   "cell_type": "code",
   "execution_count": null,
   "metadata": {},
   "outputs": [],
   "source": [
    "url = \"https://treesai-gus-public.s3.eu-west-3.amazonaws.com/inputs/amsterdam_all_trees.csv\"\n",
    "df_pop = pd.read_csv(url)\n",
    "print(\n",
    "    \"Based on the source, there are {} Trees in the public Amsterdam Trees Dataset.\".format(\n",
    "        len(df_pop)\n",
    "    )\n",
    ")"
   ]
  },
  {
   "cell_type": "code",
   "execution_count": null,
   "metadata": {},
   "outputs": [],
   "source": [
    "df_pop = df_pop[[\"OBJECTNUMMER\", \"Soortnaam_WTS\", \"Boomhoogte\", \"RADIUS\", \"LNG\", \"LAT\"]]\n",
    "df_pop = df_pop.rename(\n",
    "    {\n",
    "        \"OBJECTNUMMER\": \"id\",\n",
    "        \"Soortnaam_WTS\": \"species\",\n",
    "        \"Boomhoogte\": \"height\",\n",
    "        \"RADIUS\": \"radius\",\n",
    "        \"LNG\": \"lng\",\n",
    "        \"LAT\": \"lat\",\n",
    "    },\n",
    "    axis=1,\n",
    ")"
   ]
  },
  {
   "cell_type": "code",
   "execution_count": null,
   "metadata": {},
   "outputs": [],
   "source": [
    "df_pop.set_index(\"id\")\n",
    "df_pop[\"dbh\"] = df_pop[\"radius\"] * 2.54\n",
    "df_pop.tail()"
   ]
  },
  {
   "cell_type": "markdown",
   "metadata": {},
   "source": [
    "#### 1.3 Take avg. Height"
   ]
  },
  {
   "cell_type": "code",
   "execution_count": null,
   "metadata": {},
   "outputs": [],
   "source": [
    "import re\n",
    "\n",
    "df_pop = df_pop[df_pop[\"height\"] != \"Onbekend\"]\n",
    "\n",
    "df_pop.tail()"
   ]
  },
  {
   "cell_type": "code",
   "execution_count": null,
   "metadata": {},
   "outputs": [],
   "source": [
    "def get_average_height(height_string):\n",
    "    \"\"\"\n",
    "    Extracts the average height from a string of the format 'X tot Y m'.\n",
    "    \"\"\"\n",
    "    matches = re.findall(r\"\\d+\", height_string)\n",
    "    return sum(map(int, matches)) / len(matches)\n",
    "\n",
    "\n",
    "df_pop[\"height\"] = df_pop[\"height\"].apply(get_average_height)\n",
    "\n",
    "df_pop.tail()"
   ]
  },
  {
   "cell_type": "markdown",
   "metadata": {},
   "source": [
    "#### 1.4 Map LAT,LNG to x,y POS on MESA Grid."
   ]
  },
  {
   "cell_type": "code",
   "execution_count": null,
   "metadata": {},
   "outputs": [],
   "source": [
    "# take lat and lng columns and convert to 2 separate numpy arrays\n",
    "latlng_array_to_xy(df_pop)\n",
    "df_pop.tail()"
   ]
  },
  {
   "cell_type": "code",
   "execution_count": null,
   "metadata": {},
   "outputs": [],
   "source": [
    "url = \"https://treesai-gus-public.s3.eu-west-3.amazonaws.com/inputs/species_list_amsterdam.csv\"\n",
    "df = pd.read_csv(url)\n",
    "df = df.rename(columns={\"Species\": \"species\"})\n",
    "df.tail()"
   ]
  },
  {
   "cell_type": "markdown",
   "metadata": {},
   "source": [
    "### 2. Data Prep\n",
    "\n",
    "Merge the two dataframes on the 'species' column\n",
    "Map specific Tree species to their belonging categories \n",
    "to be able to use their generic allometric equations."
   ]
  },
  {
   "cell_type": "markdown",
   "metadata": {},
   "source": [
    "merged_df = pd.merge(df, df_pop, on=\"species\")\n",
    "merged_df.columns\n",
    "df_pop = merged_df[[\"id\", \"Category\", \"height\", \"dbh\", \"gus_x\", \"gus_y\"]]\n",
    "df_pop.tail()"
   ]
  },
  {
   "cell_type": "code",
   "execution_count": null,
   "metadata": {},
   "outputs": [],
   "source": [
    "df_pop = df_pop.rename(\n",
    "    columns={\"Category\": \"species\", \"gus_x\": \"xpos\", \"gus_y\": \"ypos\"}\n",
    ")\n",
    "df_pop.tail()"
   ]
  },
  {
   "cell_type": "code",
   "execution_count": null,
   "metadata": {},
   "outputs": [],
   "source": [
    "# Distribute the conditions of Trees over the df.\n",
    "conditions = [\"fair\", \"good\", \"excellent\"] * (len(df_pop) // 3) + [\"good\"]\n",
    "df_pop[\"condition\"] = conditions"
   ]
  },
  {
   "cell_type": "code",
   "execution_count": null,
   "metadata": {},
   "outputs": [],
   "source": [
    "from datetime import datetime\n",
    "\n",
    "print(datetime.now())\n",
    "# df_pop['species'].isna().sum() -- 368, deleting those for this case now.\n",
    "df_pop.dropna(subset=[\"species\"], inplace=True)\n",
    "df_pop.tail()"
   ]
  }
 ],
 "metadata": {
  "kernelspec": {
   "display_name": ".venv",
   "language": "python",
   "name": "python3"
  },
  "language_info": {
   "codemirror_mode": {
    "name": "ipython",
    "version": 3
   },
   "file_extension": ".py",
   "mimetype": "text/x-python",
   "name": "python",
   "nbconvert_exporter": "python",
   "pygments_lexer": "ipython3",
   "version": "3.10.13"
  }
 },
 "nbformat": 4,
 "nbformat_minor": 2
}
