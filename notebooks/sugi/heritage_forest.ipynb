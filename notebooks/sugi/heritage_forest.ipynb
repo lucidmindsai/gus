{
 "cells": [
  {
   "cell_type": "code",
   "execution_count": null,
   "metadata": {},
   "outputs": [],
   "source": [
    "import os\n",
    "import sys"
   ]
  },
  {
   "cell_type": "markdown",
   "metadata": {},
   "source": [
    "# Heritage Forest\n",
    "180 Sqm\n",
    "630 saplings\n",
    "26 species\n",
    "\n",
    "**Canopy 10% 63**\n",
    "Lime - small 21\n",
    "Oak Sessile 21\n",
    "Oak English 21\n",
    "\n",
    "**Tree 30% 189**\n",
    "Hornbeam 34\n",
    "Willow goat 26\n",
    "Willow bay 26 Rowan 26\n",
    "Maple 26\n",
    "Crab apple 26\n",
    "Willow - grey 26\n",
    "\n",
    "**Sub Tree 30% -189**\n",
    "Yew 26\n",
    "Holly 26\n",
    "Hazel 34\n",
    "Hawthorn 26\n",
    "Blackthorn 26\n",
    "Whitebeam 26\n",
    "Willow wooly 26\n",
    "\n",
    "**Shrub 30% 189**\n",
    "Box 21\n",
    "Elder 21\n",
    "Alder buckthorn 21\n",
    "Dogwood 21\n",
    "Spindle 21\n",
    "Wild privet 21\n",
    "Dog rose 21\n",
    "Guelder rose 21\n",
    "Filed rose 21"
   ]
  },
  {
   "cell_type": "code",
   "execution_count": null,
   "metadata": {},
   "outputs": [],
   "source": [
    "tree_families = {\n",
    "    'Lime - small': 'Deciduous',\n",
    "    'Oak Sessile': 'Deciduous',\n",
    "    'Oak English': 'Deciduous',\n",
    "    'Hornbeam': 'Deciduous',\n",
    "    'Willow goat': 'Deciduous',\n",
    "    'Willow bay': 'Deciduous',\n",
    "    'Rowan': 'Deciduous',\n",
    "    'Maple': 'Deciduous',\n",
    "    'Crab apple': 'Deciduous',\n",
    "    'Willow - grey': 'Deciduous',\n",
    "    'Yew': 'Coniferous',\n",
    "    'Holly': 'Evergreen', # Evergreen but not a conifer\n",
    "    'Hazel': 'Deciduous',\n",
    "    'Hawthorn': 'Deciduous',\n",
    "    'Blackthorn': 'Deciduous',\n",
    "    'Whitebeam': 'Deciduous',\n",
    "    'Willow wooly': 'Deciduous'\n",
    "}"
   ]
  }
 ],
 "metadata": {
  "language_info": {
   "name": "python"
  }
 },
 "nbformat": 4,
 "nbformat_minor": 2
}
