{
 "cells": [
  {
   "cell_type": "code",
   "execution_count": null,
   "metadata": {},
   "outputs": [],
   "source": [
    "import os\n",
    "import sys\n",
    "\n"
   ]
  },
  {
   "cell_type": "markdown",
   "metadata": {},
   "source": [
    "# Parsloes Park forest\n",
    "\n",
    "Area: 10000 sq meter\n",
    "Density: 3.2 m2\n",
    "Total Saplings: 32,000\n",
    "\n",
    "**Canopy Layer:**\n",
    "1 Oak, english Quercus robur 3200 (quantity)\n",
    "2 Oak, sessile Qusrcus petrasa -3200 \n",
    "3 Cherry., wild Prunus avium -1300 \n",
    "4 Beech, common Fagus sylvatica -600 \n",
    "5 Lime, larged leaved Tilis cordsta  - 1000 \n",
    "\n",
    "**Tree Layer:**\n",
    "6 Birch, downy Botula pubescens -2200\n",
    "7 Wild service tree Sorbus torminalis -600 \n",
    "8 Birch, silver Betula penduls 2600 \n",
    "9 Cherry. bird Prunus padus -1300 \n",
    "\n",
    "**Sub Tree Layer**\n",
    "10 Hazel Corvlus avellana -1600\n",
    "11 Dogwood Cormus sanguinea -1300 \n",
    "12 Maple. field Acer campestre -1300 \n",
    "13 Willow, goat Sslix capree -600\n",
    "14 Hornbeam Carpinus betulus 1000 \n",
    "15 Apple, crab Malus syvestns 600\n",
    "16 Spindle Euonymus Buropasa- 600\n",
    "17 Holly liex -1000\n",
    "18 Whiteboarn Sorbus aria 600 \n",
    "19 Elder Sambucus nigra 1000 \n",
    "20 Box, common Buxus sempervirens - 600 \n",
    "21 Juniper Junipenus communis 2200\n",
    "\n",
    "**Shrub Layer:**\n",
    "22 Shrubs Blackthorn Prunus - 1600 \n",
    "23 Shrubs Wayfaring tree Viburmum lantana 1000 \n",
    "24 Shrubs Guelder, rose Viburmum gpulus -1000 \n",
    "\n",
    "TOTAL 32,000 saplings:"
   ]
  },
  {
   "cell_type": "markdown",
   "metadata": {},
   "source": []
  },
  {
   "cell_type": "code",
   "execution_count": 2,
   "metadata": {},
   "outputs": [
    {
     "name": "stdout",
     "output_type": "stream",
     "text": [
      "Your map should have been opened in your browser automatically.\n",
      "Press ctrl+c to return.\n"
     ]
    }
   ],
   "source": [
    "import pandas as pd\n",
    "import folium\n",
    "\n",
    "# Create a sample dataframe\n",
    "data = {\n",
    "    'lat': [51.5074, 48.8566, 40.7128],\n",
    "    'lng': [-0.1278, 2.3522, -74.0060],\n",
    "    'name': ['London', 'Paris', 'New York']\n",
    "}\n",
    "df = pd.DataFrame(data)\n",
    "\n",
    "# Create a folium map object\n",
    "m = folium.Map(location=[df['lat'].mean(), df['lng'].mean()], zoom_start=3)\n",
    "\n",
    "# Plot points\n",
    "for index, row in df.iterrows():\n",
    "    folium.Marker([row['lat'], row['lng']], popup=row['name']).add_to(m)\n",
    "\n",
    "# Save or show map\n",
    "m.save(\"sample.html\")"
   ]
  },
  {
   "cell_type": "code",
   "execution_count": null,
   "metadata": {},
   "outputs": [],
   "source": []
  }
 ],
 "metadata": {
  "kernelspec": {
   "display_name": ".venv",
   "language": "python",
   "name": "python3"
  },
  "language_info": {
   "codemirror_mode": {
    "name": "ipython",
    "version": 3
   },
   "file_extension": ".py",
   "mimetype": "text/x-python",
   "name": "python",
   "nbconvert_exporter": "python",
   "pygments_lexer": "ipython3",
   "version": "3.10.12"
  }
 },
 "nbformat": 4,
 "nbformat_minor": 2
}
